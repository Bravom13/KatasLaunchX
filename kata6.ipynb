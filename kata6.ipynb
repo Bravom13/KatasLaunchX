{
 "cells": [
  {
   "cell_type": "code",
   "execution_count": null,
   "metadata": {},
   "outputs": [],
   "source": []
  },
  {
   "cell_type": "markdown",
   "metadata": {},
   "source": [
    "# Crear y usar una lista de python "
   ]
  },
  {
   "cell_type": "code",
   "execution_count": 10,
   "metadata": {},
   "outputs": [
    {
     "name": "stdout",
     "output_type": "stream",
     "text": [
      "Hay  7 planetas en nuestro sistema solar.\n"
     ]
    }
   ],
   "source": [
    "planets = [\"Mercurio\", \"Venus\", \"Tierra\", \"Marte\", \"Jupiter\", \"Saturno\", \"Urano\"]\n",
    "\n",
    "print(\"Hay \", len(planets), \"planetas en nuestro sistema solar.\")"
   ]
  },
  {
   "cell_type": "code",
   "execution_count": 11,
   "metadata": {},
   "outputs": [
    {
     "name": "stdout",
     "output_type": "stream",
     "text": [
      "Hay  8 planetas en nuestro sistema solar.\n",
      "De igual manerael ultimo planeta agregado es Pluton\n"
     ]
    }
   ],
   "source": [
    "planets.append(\"Pluton\")\n",
    "\n",
    "print(\"Hay \", len(planets), \"planetas en nuestro sistema solar.\")\n",
    "print (\"De igual manerael ultimo planeta agregado es\", planets[-1])"
   ]
  },
  {
   "cell_type": "markdown",
   "metadata": {},
   "source": [
    "#Ejercicio 2"
   ]
  },
  {
   "cell_type": "code",
   "execution_count": 15,
   "metadata": {},
   "outputs": [
    {
     "name": "stdout",
     "output_type": "stream",
     "text": [
      "Los planetas mas cercanos al Sol desde Jupiter son: ['Mercurio', 'Venus', 'Tierra', 'Marte']\n"
     ]
    }
   ],
   "source": [
    "planets = [\"Mercurio\", \"Venus\", \"Tierra\", \"Marte\", \"Jupiter\", \"Saturno\", \"Urano\"]\n",
    "\n",
    "answer = input (\"Por favor escribe un planeta, no olvides que la primera letra es con mayuscula.\")\n",
    "planets_index = planets.index(answer)\n",
    "\n",
    "print (\"Los planetas mas cercanos al Sol desde\", answer, \"son:\", planets[0: planets_index] )"
   ]
  },
  {
   "cell_type": "code",
   "execution_count": 18,
   "metadata": {},
   "outputs": [
    {
     "name": "stdout",
     "output_type": "stream",
     "text": [
      "Los planetas mas alejados del Sol desde Urano son: []\n"
     ]
    }
   ],
   "source": [
    "planets = [\"Mercurio\", \"Venus\", \"Tierra\", \"Marte\", \"Jupiter\", \"Saturno\", \"Urano\"]\n",
    "\n",
    "answer = input (\"Por favor escribe un planeta, no olvides que la primera letra es con mayuscula.\")\n",
    "planets_index = planets.index(answer)\n",
    "\n",
    "print (\"Los planetas mas alejados del Sol desde\", answer, \"son:\", planets[planets_index+1: ] )"
   ]
  }
 ],
 "metadata": {
  "interpreter": {
   "hash": "9aa1dbd36232c2ff2e3deb15dbc2cc45c920f388bd8a49d60edc02fb389ad485"
  },
  "kernelspec": {
   "display_name": "Python 3.9.10 64-bit (windows store)",
   "language": "python",
   "name": "python3"
  },
  "language_info": {
   "codemirror_mode": {
    "name": "ipython",
    "version": 3
   },
   "file_extension": ".py",
   "mimetype": "text/x-python",
   "name": "python",
   "nbconvert_exporter": "python",
   "pygments_lexer": "ipython3",
   "version": "3.9.10"
  },
  "orig_nbformat": 4
 },
 "nbformat": 4,
 "nbformat_minor": 2
}
