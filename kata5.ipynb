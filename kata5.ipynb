{
 "cells": [
  {
   "cell_type": "code",
   "execution_count": null,
   "metadata": {},
   "outputs": [],
   "source": []
  },
  {
   "cell_type": "markdown",
   "metadata": {},
   "source": [
    "# Operadores Aritmeticos"
   ]
  },
  {
   "cell_type": "code",
   "execution_count": 3,
   "metadata": {},
   "outputs": [
    {
     "name": "stdout",
     "output_type": "stream",
     "text": [
      "628949330\n",
      "390577533.93\n"
     ]
    }
   ],
   "source": [
    "d_tierra =149597870\n",
    "d_jupiter =778547200\n",
    "d_t_j = d_jupiter - d_tierra\n",
    "d_millas = d_t_j * 0.621\n",
    "print(d_t_j)\n",
    "print(d_millas)"
   ]
  },
  {
   "cell_type": "code",
   "execution_count": 5,
   "metadata": {},
   "outputs": [
    {
     "name": "stdout",
     "output_type": "stream",
     "text": [
      "La distancia entre ambos planetas es de 91700000 km\n",
      "La distancia entre ambos planetas es de 56945700.0 km\n"
     ]
    }
   ],
   "source": [
    "mercurio = 57900000\n",
    "venus = 108200000\n",
    "tierra = 149600000\n",
    "marte = 227900000\n",
    "jupiter = 778600000\n",
    "saturno = 1433500000\n",
    "urano = 2872500000\n",
    "neptuno = 4495100000\n",
    "\n",
    "p1 = input (\"Escriba la distancia del Sol al primer planeta en km\")\n",
    "p2 = input (\"Escriba la distancia del Sol al segundo planeta en km\")\n",
    "\n",
    "distancia = abs(int(p1) - int (p2))\n",
    "distancia_millas = distancia * 0.621\n",
    "\n",
    "print (\"La distancia entre ambos planetas es de \" + str(distancia) + \" km\")\n",
    "print (\"La distancia entre ambos planetas es de \" + str(distancia_millas) + \" millas\")"
   ]
  }
 ],
 "metadata": {
  "interpreter": {
   "hash": "9aa1dbd36232c2ff2e3deb15dbc2cc45c920f388bd8a49d60edc02fb389ad485"
  },
  "kernelspec": {
   "display_name": "Python 3.9.10 64-bit (windows store)",
   "language": "python",
   "name": "python3"
  },
  "language_info": {
   "codemirror_mode": {
    "name": "ipython",
    "version": 3
   },
   "file_extension": ".py",
   "mimetype": "text/x-python",
   "name": "python",
   "nbconvert_exporter": "python",
   "pygments_lexer": "ipython3",
   "version": "3.9.10"
  },
  "orig_nbformat": 4
 },
 "nbformat": 4,
 "nbformat_minor": 2
}
