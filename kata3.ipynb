{
 "cells": [
  {
   "cell_type": "code",
   "execution_count": null,
   "metadata": {},
   "outputs": [],
   "source": []
  },
  {
   "cell_type": "markdown",
   "metadata": {},
   "source": [
    "# CODIGO PARA ALERTAR"
   ]
  },
  {
   "cell_type": "code",
   "execution_count": 8,
   "metadata": {},
   "outputs": [
    {
     "name": "stdout",
     "output_type": "stream",
     "text": [
      "Cuidado, un asteroide se acerca a una velocidad de 49 km/s\n"
     ]
    }
   ],
   "source": [
    "vel_asteroide =49\n",
    "vel_alerta = 25\n",
    "\n",
    "if vel_asteroide > vel_alerta:\n",
    "    print(\"Cuidado, un asteroide se acerca a una velocidad de \" + str(vel_asteroide) + \" km/s\")\n",
    "else:\n",
    "    print(\"No hay peligro, el asteroide detectado no va a una velocidad alta\")"
   ]
  },
  {
   "cell_type": "markdown",
   "metadata": {},
   "source": [
    "# Codigo para avisar que hay un asteroide visible"
   ]
  },
  {
   "cell_type": "code",
   "execution_count": 9,
   "metadata": {},
   "outputs": [
    {
     "name": "stdout",
     "output_type": "stream",
     "text": [
      "Nada de que preocuparse, el asteroide no es ninguna amenaza para el planeta.\n"
     ]
    }
   ],
   "source": [
    "vel_entrada = 19\n",
    "vel_advertencia = 20\n",
    "\n",
    "if vel_entrada > vel_advertencia:\n",
    "    print(\"Advertencia, hay un asteroide esta produciendo un rayo de luz en el cielo, su velocidad es de \" + str(vel_entrada) + \" km/s\")\n",
    "elif vel_entrada == vel_advertencia:\n",
    "    print(\"Advertencia, hay un asteroide esta produciendo un rayo de luz en el cielo, su velocidad es de \" + str(vel_entrada) + \" km/s\")\n",
    "else:\n",
    "    print(\"Nada de que preocuparse, el asteroide no es ninguna amenaza para el planeta.\")"
   ]
  },
  {
   "cell_type": "markdown",
   "metadata": {},
   "source": [
    "# Codigo usando and y or"
   ]
  },
  {
   "cell_type": "code",
   "execution_count": 27,
   "metadata": {},
   "outputs": [
    {
     "name": "stdout",
     "output_type": "stream",
     "text": [
      "Advertencia, colision inminente, evacuen el planeta\n"
     ]
    }
   ],
   "source": [
    "vel_obj = 15\n",
    "tamano_obj = 26\n",
    "\n",
    "\n",
    "if vel_obj > 25 and tamano_obj >25:\n",
    "    print(\"Advertencia, colision inminente, evacuen el planeta\")\n",
    "elif vel_obj >= 20:\n",
    "    print(\"El asteroide es visible desde el cielo y emite un rayo de luz\")\n",
    "elif tamano_obj > 25:\n",
    "    print(\"Advertencia, colision inminente, evacuen el planeta\")\n",
    "else:\n",
    "    print(\"No se ha detectado ninguna amenaza.\")"
   ]
  }
 ],
 "metadata": {
  "interpreter": {
   "hash": "9aa1dbd36232c2ff2e3deb15dbc2cc45c920f388bd8a49d60edc02fb389ad485"
  },
  "kernelspec": {
   "display_name": "Python 3.9.10 64-bit (windows store)",
   "language": "python",
   "name": "python3"
  },
  "language_info": {
   "codemirror_mode": {
    "name": "ipython",
    "version": 3
   },
   "file_extension": ".py",
   "mimetype": "text/x-python",
   "name": "python",
   "nbconvert_exporter": "python",
   "pygments_lexer": "ipython3",
   "version": "3.9.10"
  },
  "orig_nbformat": 4
 },
 "nbformat": 4,
 "nbformat_minor": 2
}
