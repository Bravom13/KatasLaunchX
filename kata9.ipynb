{
 "cells": [
  {
   "cell_type": "code",
   "execution_count": null,
   "metadata": {},
   "outputs": [],
   "source": []
  },
  {
   "cell_type": "markdown",
   "metadata": {},
   "source": [
    "# Ejercicio 1"
   ]
  },
  {
   "cell_type": "code",
   "execution_count": null,
   "metadata": {},
   "outputs": [],
   "source": [
    "def gasolina (t1, t2, t3):\n",
    "    promedio = (t1+t2+t3)/3\n",
    "    return f\"\"\" Promedios de gasolina\n",
    "    Promedio total: {round(promedio)}%\n",
    "    Tanque 1: {t1}%\n",
    "    Tanque 2: {t2}%\n",
    "    Tanque 3: {t3}%\n",
    "    \"\"\"\n",
    "print(gasolina(80, 70, 85))"
   ]
  },
  {
   "cell_type": "code",
   "execution_count": null,
   "metadata": {},
   "outputs": [],
   "source": [
    "def promedios(valores):\n",
    "    total = sum(valores)\n",
    "    cantidad = len(valores)\n",
    "    return total / cantidad\n",
    "\n",
    "promedios ([80, 70, 85])    \n"
   ]
  },
  {
   "cell_type": "code",
   "execution_count": null,
   "metadata": {},
   "outputs": [],
   "source": [
    "def gasolina (t1, t2, t3):\n",
    "    return f\"\"\" Promedios de gasolina\n",
    "    Promedio total: {round(promedios([t1, t2, t3]))}%\n",
    "    Tanque 1: {t1}%\n",
    "    Tanque 2: {t2}%\n",
    "    Tanque 3: {t3}%\n",
    "    \"\"\"\n",
    "\n",
    "print (gasolina(80,100,85))"
   ]
  },
  {
   "cell_type": "markdown",
   "metadata": {},
   "source": [
    "# Ejercicio 2"
   ]
  },
  {
   "cell_type": "code",
   "execution_count": null,
   "metadata": {},
   "outputs": [],
   "source": [
    "def reporte (pre, tiempo, destino, t_ext, t_int):\n",
    "    return f\"\"\"Mision a {destino}\n",
    "    Tiempo total de viaje : {pre + tiempo} horas\n",
    "    Cantidad total de gasolina : {t_ext + t_int} litros\n",
    "    \"\"\"\n",
    "print (reporte (1,15, 'Espacio', 1500, 3500))"
   ]
  },
  {
   "cell_type": "code",
   "execution_count": 31,
   "metadata": {},
   "outputs": [
    {
     "name": "stdout",
     "output_type": "stream",
     "text": [
      "Mision a Espacio\n",
      "    Tiempo total de viaje : 1660 minutos\n",
      "    Cantidad total de gasolina : 5000 litros\n",
      "    \n"
     ]
    }
   ],
   "source": [
    "def reporte (destino, *minutos, **gasolina):\n",
    "    return f\"\"\"Mision a {destino}\n",
    "    Tiempo total de viaje : {sum(minutos)} minutos\n",
    "    Cantidad total de gasolina : {sum(gasolina.values())} litros\n",
    "    \"\"\"\n",
    "print (reporte ('Espacio',10 , 150, 1500, externo = 1500, interno= 3500))"
   ]
  },
  {
   "cell_type": "code",
   "execution_count": 41,
   "metadata": {},
   "outputs": [
    {
     "name": "stdout",
     "output_type": "stream",
     "text": [
      "\n",
      "    Mision a Espacio\n",
      "    Tiempo total de viaje : 1660 minutos\n",
      "    Cantidad total de gasolina : 5000 litros\n",
      "    Tanque externo tiene 1500 litros \n",
      "    Tanque interno tiene 3500 litros \n",
      "    \n"
     ]
    }
   ],
   "source": [
    "def reporte (destino, *minutos, **gasolina):\n",
    "    final = f\"\"\"\n",
    "    Mision a {destino}\n",
    "    Tiempo total de viaje : {sum(minutos)} minutos\n",
    "    Cantidad total de gasolina : {sum(gasolina.values())} litros\n",
    "    \"\"\"\n",
    "    for tipo, litros in gasolina.items():\n",
    "        final += f\"\"\"Tanque {tipo} tiene {litros} litros \\n    \"\"\"\n",
    "    return final\n",
    "\n",
    "print (reporte ('Espacio',10 , 150, 1500, externo = 1500, interno= 3500))"
   ]
  }
 ],
 "metadata": {
  "interpreter": {
   "hash": "9aa1dbd36232c2ff2e3deb15dbc2cc45c920f388bd8a49d60edc02fb389ad485"
  },
  "kernelspec": {
   "display_name": "Python 3.9.10 64-bit (windows store)",
   "language": "python",
   "name": "python3"
  },
  "language_info": {
   "codemirror_mode": {
    "name": "ipython",
    "version": 3
   },
   "file_extension": ".py",
   "mimetype": "text/x-python",
   "name": "python",
   "nbconvert_exporter": "python",
   "pygments_lexer": "ipython3",
   "version": "3.9.10"
  },
  "orig_nbformat": 4
 },
 "nbformat": 4,
 "nbformat_minor": 2
}
